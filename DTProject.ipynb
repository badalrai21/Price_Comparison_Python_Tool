{
  "nbformat": 4,
  "nbformat_minor": 0,
  "metadata": {
    "colab": {
      "provenance": []
    },
    "kernelspec": {
      "name": "python3",
      "display_name": "Python 3"
    },
    "language_info": {
      "name": "python"
    }
  },
  "cells": [
    {
      "cell_type": "code",
      "execution_count": 1,
      "metadata": {
        "colab": {
          "base_uri": "https://localhost:8080/"
        },
        "id": "YMA1z6rKKyhy",
        "outputId": "b7e1b533-22d2-4bdb-e902-11551946e0d6"
      },
      "outputs": [
        {
          "output_type": "stream",
          "name": "stdout",
          "text": [
            "Looking in indexes: https://pypi.org/simple, https://us-python.pkg.dev/colab-wheels/public/simple/\n",
            "Requirement already satisfied: requests in /usr/local/lib/python3.8/dist-packages (2.23.0)\n",
            "Requirement already satisfied: chardet<4,>=3.0.2 in /usr/local/lib/python3.8/dist-packages (from requests) (3.0.4)\n",
            "Requirement already satisfied: certifi>=2017.4.17 in /usr/local/lib/python3.8/dist-packages (from requests) (2022.12.7)\n",
            "Requirement already satisfied: idna<3,>=2.5 in /usr/local/lib/python3.8/dist-packages (from requests) (2.10)\n",
            "Requirement already satisfied: urllib3!=1.25.0,!=1.25.1,<1.26,>=1.21.1 in /usr/local/lib/python3.8/dist-packages (from requests) (1.24.3)\n"
          ]
        }
      ],
      "source": [
        "!pip install requests"
      ]
    },
    {
      "cell_type": "code",
      "source": [
        "!pip install beautifulsoup4"
      ],
      "metadata": {
        "colab": {
          "base_uri": "https://localhost:8080/"
        },
        "id": "3zBH3BtbK7hq",
        "outputId": "cff595db-0ae0-42c5-8c4a-587f87305c22"
      },
      "execution_count": 2,
      "outputs": [
        {
          "output_type": "stream",
          "name": "stdout",
          "text": [
            "Looking in indexes: https://pypi.org/simple, https://us-python.pkg.dev/colab-wheels/public/simple/\n",
            "Requirement already satisfied: beautifulsoup4 in /usr/local/lib/python3.8/dist-packages (4.6.3)\n"
          ]
        }
      ]
    },
    {
      "cell_type": "code",
      "source": [
        "from bs4 import BeautifulSoup\n",
        "import requests"
      ],
      "metadata": {
        "id": "i8aYfIbvK9tP"
      },
      "execution_count": 3,
      "outputs": []
    },
    {
      "cell_type": "code",
      "source": [
        "headers = {'User-Agent' : 'Mozilla/5.0 (Windows NT 10.0; Win64; x64) AppleWebKit/537.36 (KHTML, like Gecko) Chrome/108.0.0.0 Safari/537.36'}\n"
      ],
      "metadata": {
        "id": "XmijzfEPLDXv"
      },
      "execution_count": 4,
      "outputs": []
    },
    {
      "cell_type": "code",
      "source": [
        "flipkart='https://www.flipkart.com/apple-iphone-11-green-64-gb/p/itm386a85013a3d1'\n",
        "amazon='https://www.amazon.in/Apple-iPhone-13-128GB-Pink/dp/B09G9FPGTN/ref=sr_1_1_sspa?keywords=iphone&qid=1672322465&sr=8-1-spons&sp_csd=d2lkZ2V0TmFtZT1zcF9hdGY&psc=1'"
      ],
      "metadata": {
        "id": "puG5-QF9LVtW"
      },
      "execution_count": 5,
      "outputs": []
    },
    {
      "cell_type": "code",
      "source": [
        "def flipkart(name):\n",
        "    try:\n",
        "        global flipkart\n",
        "        name1 = name.replace(\" \",\"+\")\n",
        "        flipkart=f'https://www.flipkart.com/search?q={name1}&otracker=search&otracker1=search&marketplace=FLIPKART&as-show=off&as=off'\n",
        "        res = requests.get(f'https://www.flipkart.com/search?q={name1}&otracker=search&otracker1=search&marketplace=FLIPKART&as-show=off&as=off',headers=headers)\n",
        "\n",
        "\n",
        "        print(\"\\nSearching in flipkart....\")\n",
        "        soup = BeautifulSoup(res.text,'html.parser')\n",
        "        \n",
        "        if(soup.select('._4rR01T')):\n",
        "            flipkart_name = soup.select('._4rR01T')[0].getText().strip().upper()\n",
        "            if name.upper() in flipkart_name:\n",
        "                flipkart_price = soup.select('._30jeq3')[0].getText().strip()\n",
        "                flipkart_name = soup.select('._4rR01T')[0].getText().strip()\n",
        "                print(\"Flipkart:\")\n",
        "                print(flipkart_name)\n",
        "                print(flipkart_price)\n",
        "                print(\"---------------------------------\")\n",
        "                \n",
        "        elif(soup.select('.s1Q9rs')):\n",
        "            flipkart_name = soup.select('.s1Q9rs')[0].getText().strip()\n",
        "            flipkart_name = flipkart_name.upper()\n",
        "            if name.upper() in flipkart_name:\n",
        "                flipkart_price = soup.select('._30jeq3')[0].getText().strip()\n",
        "                flipkart_name = soup.select('.s1Q9rs')[0].getText().strip()\n",
        "                print(\"Flipkart:\")\n",
        "                print(flipkart_name)\n",
        "                print(flipkart_price)\n",
        "                print(\"---------------------------------\")\n",
        "        else:\n",
        "            flipkart_price='0'\n",
        "            \n",
        "        return flipkart_price \n",
        "    except:\n",
        "        print(\"Flipkart: No product found!\")  \n",
        "        print(\"---------------------------------\")\n",
        "        flipkart_price= '0'\n",
        "    return flipkart_price\n",
        "\n",
        "def amazon(name):\n",
        "    try:\n",
        "        global amazon\n",
        "        name1 = name.replace(\" \",\"-\")\n",
        "        name2 = name.replace(\" \",\"+\")\n",
        "        amazon=f'https://www.amazon.in/{name1}/s?k={name2}'\n",
        "        res = requests.get(f'https://www.amazon.in/{name1}/s?k={name2}',headers=headers)\n",
        "        print(\"\\nSearching in amazon...\")\n",
        "        soup = BeautifulSoup(res.text,'html.parser')\n",
        "        amazon_page = soup.select('.a-color-base.a-text-normal')\n",
        "        amazon_page_length = int(len(amazon_page))\n",
        "        for i in range(0,amazon_page_length):\n",
        "            name = name.upper()\n",
        "            amazon_name = soup.select('.a-color-base.a-text-normal')[i].getText().strip().upper()\n",
        "            if name in amazon_name:\n",
        "                amazon_name = soup.select('.a-color-base.a-text-normal')[i].getText().strip()\n",
        "                amazon_price = soup.select('.a-price-whole')[i].getText().strip().upper()\n",
        "                print(\"Amazon:\")\n",
        "                print(amazon_name)\n",
        "                print(\"₹\"+amazon_price)\n",
        "                print(\"---------------------------------\")\n",
        "                break\n",
        "            else:\n",
        "                i+=1\n",
        "                i=int(i)\n",
        "                if i==amazon_page_length:\n",
        "                    amazon_price = '0'\n",
        "                    print(\"amazon : No product found!\")\n",
        "                    print(\"-----------------------------\")\n",
        "                    break\n",
        "                    \n",
        "        return amazon_price\n",
        "    except:\n",
        "        print(\"Amazon: No product found!\")\n",
        "        print(\"---------------------------------\")\n",
        "        amazon_price = '0'\n",
        "    return amazon_price\n",
        "\n",
        "def convert(a):\n",
        "    b=a.replace(\" \",'')\n",
        "    c=b.replace(\"INR\",'')\n",
        "    d=c.replace(\",\",'')\n",
        "    f=d.replace(\"₹\",'')\n",
        "    g=int(float(f))\n",
        "    return g\n",
        "\n",
        "name=input(\"Product Name:\\n\")\n",
        "flipkart_price=flipkart(name)\n",
        "amazon_price=amazon(name)\n",
        "\n",
        "\n",
        "if flipkart_price=='0':\n",
        "    print(\"Flipkart: No product found!\")\n",
        "    flipkart_price = int(flipkart_price)\n",
        "else:\n",
        "    print(\"\\nFlipkart Price:\",flipkart_price)\n",
        "    flipkart_price=convert(flipkart_price)\n",
        "if amazon_price=='0':\n",
        "    print(\"Amazon: No product found!\")\n",
        "    amazon_price = int(amazon_price)\n",
        "else:\n",
        "    print(\"\\nAmazon price: ₹\",amazon_price)\n",
        "    amazon_price=convert(amazon_price)"
      ],
      "metadata": {
        "colab": {
          "base_uri": "https://localhost:8080/"
        },
        "id": "mWGWybb-Lf2o",
        "outputId": "2d9c23ab-e82b-489a-9fee-f6d07fed95ce"
      },
      "execution_count": 11,
      "outputs": [
        {
          "output_type": "stream",
          "name": "stdout",
          "text": [
            "Product Name:\n",
            "iphone 14 pro\n",
            "\n",
            "Searching in flipkart....\n",
            "Flipkart:\n",
            "APPLE iPhone 14 Pro (Space Black, 128 GB)\n",
            "₹1,29,900\n",
            "---------------------------------\n",
            "\n",
            "Searching in amazon...\n",
            "Amazon:\n",
            "Apple iPhone 14 Pro 128GB Silver\n",
            "₹1,39,900\n",
            "---------------------------------\n",
            "\n",
            "Flipkart Price: ₹1,29,900\n",
            "\n",
            "Amazon price: ₹ 1,39,900\n"
          ]
        }
      ]
    },
    {
      "cell_type": "code",
      "source": [
        "lst = [flipkart_price,amazon_price]\n",
        "#print(lst)\n",
        "lst2=[]\n",
        "for j in range(0,len(lst)):\n",
        "    if lst[j]>0:\n",
        "        lst2.append(lst[j])\n",
        "if len(lst2)==0:\n",
        "    print(\"No relative product find in all websites....\")\n",
        "else:\n",
        "    min_price=min(lst2)\n",
        "\n",
        "    print(\"_______________________________\")\n",
        "    print(\"\\nMinimun Price: ₹\",min_price)\n",
        "    price = {\n",
        "        f'{amazon_price}':f'{amazon}',\n",
        "        f'{flipkart_price}':f'{flipkart}',\n",
        "    }\n",
        "    for key, value in price.items():\n",
        "        if int(key)==min_price:\n",
        "            print ('\\nURL:', price[key],'\\n')\n",
        "   \n",
        "    print(\"---------------------------------------------------------URLs--------------------------------------------------------------\")\n",
        "    print(\"Flipkart : \\n\",flipkart)\n",
        "    print(\"\\nAmazon : \\n\",amazon)\n",
        "    print(\"---------------------------------------------------------------------------------------------------------------------------\")\n"
      ],
      "metadata": {
        "colab": {
          "base_uri": "https://localhost:8080/"
        },
        "id": "XZ8xvYYrLkC8",
        "outputId": "b3d41d5f-2f3f-48a0-9c51-28ce86d0f475"
      },
      "execution_count": 12,
      "outputs": [
        {
          "output_type": "stream",
          "name": "stdout",
          "text": [
            "_______________________________\n",
            "\n",
            "Minimun Price: ₹ 129900\n",
            "\n",
            "URL: https://www.flipkart.com/search?q=iphone+14+pro&otracker=search&otracker1=search&marketplace=FLIPKART&as-show=off&as=off \n",
            "\n",
            "---------------------------------------------------------URLs--------------------------------------------------------------\n",
            "Flipkart : \n",
            " https://www.flipkart.com/search?q=iphone+14+pro&otracker=search&otracker1=search&marketplace=FLIPKART&as-show=off&as=off\n",
            "\n",
            "Amazon : \n",
            " https://www.amazon.in/iphone-14-pro/s?k=iphone+14+pro\n",
            "---------------------------------------------------------------------------------------------------------------------------\n"
          ]
        }
      ]
    }
  ]
}